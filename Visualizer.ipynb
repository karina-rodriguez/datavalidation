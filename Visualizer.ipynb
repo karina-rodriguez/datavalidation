{
 "cells": [
  {
   "cell_type": "code",
   "execution_count": 4,
   "metadata": {},
   "outputs": [
    {
     "name": "stdout",
     "output_type": "stream",
     "text": [
      "I am validator clasS\n",
      "I am validator type\n",
      "I am validator number\n"
     ]
    }
   ],
   "source": [
    "%run Reader \n",
    "# %run Validator \n",
    "# %run Visualizer \n",
    "\n",
    "# # initate the reader class to feed the dataset\n",
    "# reader = Reader('./data/db.csv')\n",
    "# tableResult = reader.readData()\n",
    "\n",
    "# # validate the different types of data\n",
    "# validator = Validator(tableResult)\n",
    "# validatedResults = validator.validateData()\n",
    "\n",
    "# # initate the visualiser which will change the various graphs after data is validated\n",
    "# visualiser = Visualizer(validatedResults)\n",
    "\n",
    "# visualiser.plotClassOrder()"
   ]
  },
  {
   "cell_type": "code",
   "execution_count": null,
   "metadata": {},
   "outputs": [],
   "source": []
  }
 ],
 "metadata": {
  "kernelspec": {
   "display_name": "Python 3",
   "language": "python",
   "name": "python3"
  },
  "language_info": {
   "codemirror_mode": {
    "name": "ipython",
    "version": 3
   },
   "file_extension": ".py",
   "mimetype": "text/x-python",
   "name": "python",
   "nbconvert_exporter": "python",
   "pygments_lexer": "ipython3",
   "version": "3.7.4"
  }
 },
 "nbformat": 4,
 "nbformat_minor": 4
}
