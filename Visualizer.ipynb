{
 "cells": [
  {
   "cell_type": "code",
   "execution_count": 1,
   "metadata": {},
   "outputs": [
    {
     "name": "stderr",
     "output_type": "stream",
     "text": [
      "/Users/kre/opt/anaconda3/lib/python3.7/site-packages/pandas/core/frame.py:4244: SettingWithCopyWarning: \n",
      "A value is trying to be set on a copy of a slice from a DataFrame\n",
      "\n",
      "See the caveats in the documentation: http://pandas.pydata.org/pandas-docs/stable/user_guide/indexing.html#returning-a-view-versus-a-copy\n",
      "  **kwargs\n"
     ]
    },
    {
     "name": "stdout",
     "output_type": "stream",
     "text": [
      "I am validator clasS\n",
      "I am validator type\n",
      "I am validator number\n"
     ]
    },
    {
     "data": {
      "text/html": [
       "\n",
       "<div id=\"altair-viz-bb295e49d4d347f1a62eb04fc1286f34\"></div>\n",
       "<script type=\"text/javascript\">\n",
       "  (function(spec, embedOpt){\n",
       "    const outputDiv = document.getElementById(\"altair-viz-bb295e49d4d347f1a62eb04fc1286f34\");\n",
       "    const paths = {\n",
       "      \"vega\": \"https://cdn.jsdelivr.net/npm//vega@5?noext\",\n",
       "      \"vega-lib\": \"https://cdn.jsdelivr.net/npm//vega-lib?noext\",\n",
       "      \"vega-lite\": \"https://cdn.jsdelivr.net/npm//vega-lite@4.0.2?noext\",\n",
       "      \"vega-embed\": \"https://cdn.jsdelivr.net/npm//vega-embed@6?noext\",\n",
       "    };\n",
       "\n",
       "    function loadScript(lib) {\n",
       "      return new Promise(function(resolve, reject) {\n",
       "        var s = document.createElement('script');\n",
       "        s.src = paths[lib];\n",
       "        s.async = true;\n",
       "        s.onload = () => resolve(paths[lib]);\n",
       "        s.onerror = () => reject(`Error loading script: ${paths[lib]}`);\n",
       "        document.getElementsByTagName(\"head\")[0].appendChild(s);\n",
       "      });\n",
       "    }\n",
       "\n",
       "    function showError(err) {\n",
       "      outputDiv.innerHTML = `<div class=\"error\" style=\"color:red;\">${err}</div>`;\n",
       "      throw err;\n",
       "    }\n",
       "\n",
       "    function displayChart(vegaEmbed) {\n",
       "      vegaEmbed(outputDiv, spec, embedOpt)\n",
       "        .catch(err => showError(`Javascript Error: ${err.message}<br>This usually means there's a typo in your chart specification. See the javascript console for the full traceback.`));\n",
       "    }\n",
       "\n",
       "    if(typeof define === \"function\" && define.amd) {\n",
       "      requirejs.config({paths});\n",
       "      require([\"vega-embed\"], displayChart, err => showError(`Error loading script: ${err.message}`));\n",
       "    } else if (typeof vegaEmbed === \"function\") {\n",
       "      displayChart(vegaEmbed);\n",
       "    } else {\n",
       "      loadScript(\"vega\")\n",
       "        .then(() => loadScript(\"vega-lite\"))\n",
       "        .then(() => loadScript(\"vega-embed\"))\n",
       "        .catch(showError)\n",
       "        .then(() => displayChart(vegaEmbed));\n",
       "    }\n",
       "  })({\"config\": {\"view\": {\"continuousWidth\": 400, \"continuousHeight\": 300}}, \"data\": {\"name\": \"data-b23ac94ecbefd3d5b6375b1660e5d57a\"}, \"mark\": \"bar\", \"encoding\": {\"color\": {\"type\": \"nominal\", \"field\": \"type\"}, \"order\": {\"type\": \"nominal\", \"field\": \"type\", \"sort\": \"ascending\"}, \"x\": {\"type\": \"quantitative\", \"aggregate\": \"sum\", \"field\": \"number\", \"title\": \"Total Number\"}, \"y\": {\"type\": \"nominal\", \"field\": \"clasS\", \"sort\": {\"field\": \"number\", \"order\": \"descending\"}, \"title\": \"Class\"}}, \"$schema\": \"https://vega.github.io/schema/vega-lite/v4.0.2.json\", \"datasets\": {\"data-b23ac94ecbefd3d5b6375b1660e5d57a\": [{\"clasS\": \"Malacostraca\", \"type\": \"\", \"number\": 23118}, {\"clasS\": \"Malacostraca\", \"type\": \"Paratipo\", \"number\": 541}, {\"clasS\": \"Malacostraca\", \"type\": \"Holotipo\", \"number\": 224}, {\"clasS\": \"Malacostraca\", \"type\": \"Material Tipo\", \"number\": 3}, {\"clasS\": \"Malacostraca\", \"type\": \"Alotipo\", \"number\": 60}, {\"clasS\": \"Malacostraca\", \"type\": \"PARATIPO\", \"number\": 23}, {\"clasS\": \"Malacostraca\", \"type\": \"Paralectotipo\", \"number\": 6}, {\"clasS\": \"Malacostraca\", \"type\": \"Co-Tipo\", \"number\": 1}, {\"clasS\": \"Malacostraca\", \"type\": \"Lectotipo\", \"number\": 3}, {\"clasS\": \"Malacostraca\", \"type\": \"Neotipo\", \"number\": 6}, {\"clasS\": \"Malacostraca\", \"type\": \"Sintipo\", \"number\": 5}, {\"clasS\": \"Malacostraca\", \"type\": \"Topotipo\", \"number\": 9}, {\"clasS\": \"Malacostraca\", \"type\": \"Tipo\", \"number\": 2}, {\"clasS\": \"Hexanauplia\", \"type\": \"\", \"number\": 2921}, {\"clasS\": \"Hexanauplia\", \"type\": \"Paratipo\", \"number\": 94}, {\"clasS\": \"Hexanauplia\", \"type\": \"Holotipo\", \"number\": 45}, {\"clasS\": \"Hexanauplia\", \"type\": \"Material Tipo\", \"number\": 0}, {\"clasS\": \"Hexanauplia\", \"type\": \"Alotipo\", \"number\": 12}, {\"clasS\": \"Hexanauplia\", \"type\": \"PARATIPO\", \"number\": 4}, {\"clasS\": \"Hexanauplia\", \"type\": \"Paralectotipo\", \"number\": 0}, {\"clasS\": \"Hexanauplia\", \"type\": \"Co-Tipo\", \"number\": 0}, {\"clasS\": \"Hexanauplia\", \"type\": \"Lectotipo\", \"number\": 1}, {\"clasS\": \"Hexanauplia\", \"type\": \"Neotipo\", \"number\": 0}, {\"clasS\": \"Hexanauplia\", \"type\": \"Sintipo\", \"number\": 0}, {\"clasS\": \"Hexanauplia\", \"type\": \"Topotipo\", \"number\": 0}, {\"clasS\": \"Hexanauplia\", \"type\": \"Tipo\", \"number\": 0}, {\"clasS\": \"Branchiopoda\", \"type\": \"\", \"number\": 336}, {\"clasS\": \"Branchiopoda\", \"type\": \"Paratipo\", \"number\": 9}, {\"clasS\": \"Branchiopoda\", \"type\": \"Holotipo\", \"number\": 6}, {\"clasS\": \"Branchiopoda\", \"type\": \"Material Tipo\", \"number\": 0}, {\"clasS\": \"Branchiopoda\", \"type\": \"Alotipo\", \"number\": 5}, {\"clasS\": \"Branchiopoda\", \"type\": \"PARATIPO\", \"number\": 0}, {\"clasS\": \"Branchiopoda\", \"type\": \"Paralectotipo\", \"number\": 0}, {\"clasS\": \"Branchiopoda\", \"type\": \"Co-Tipo\", \"number\": 0}, {\"clasS\": \"Branchiopoda\", \"type\": \"Lectotipo\", \"number\": 0}, {\"clasS\": \"Branchiopoda\", \"type\": \"Neotipo\", \"number\": 0}, {\"clasS\": \"Branchiopoda\", \"type\": \"Sintipo\", \"number\": 0}, {\"clasS\": \"Branchiopoda\", \"type\": \"Topotipo\", \"number\": 0}, {\"clasS\": \"Branchiopoda\", \"type\": \"Tipo\", \"number\": 0}, {\"clasS\": \"Maxillopoda\", \"type\": \"\", \"number\": 34}, {\"clasS\": \"Maxillopoda\", \"type\": \"Paratipo\", \"number\": 4}, {\"clasS\": \"Maxillopoda\", \"type\": \"Holotipo\", \"number\": 2}, {\"clasS\": \"Maxillopoda\", \"type\": \"Material Tipo\", \"number\": 0}, {\"clasS\": \"Maxillopoda\", \"type\": \"Alotipo\", \"number\": 1}, {\"clasS\": \"Maxillopoda\", \"type\": \"PARATIPO\", \"number\": 0}, {\"clasS\": \"Maxillopoda\", \"type\": \"Paralectotipo\", \"number\": 0}, {\"clasS\": \"Maxillopoda\", \"type\": \"Co-Tipo\", \"number\": 0}, {\"clasS\": \"Maxillopoda\", \"type\": \"Lectotipo\", \"number\": 0}, {\"clasS\": \"Maxillopoda\", \"type\": \"Neotipo\", \"number\": 0}, {\"clasS\": \"Maxillopoda\", \"type\": \"Sintipo\", \"number\": 0}, {\"clasS\": \"Maxillopoda\", \"type\": \"Topotipo\", \"number\": 0}, {\"clasS\": \"Maxillopoda\", \"type\": \"Tipo\", \"number\": 0}, {\"clasS\": \"Ichthyostraca\", \"type\": \"\", \"number\": 1}, {\"clasS\": \"Ichthyostraca\", \"type\": \"Paratipo\", \"number\": 0}, {\"clasS\": \"Ichthyostraca\", \"type\": \"Holotipo\", \"number\": 0}, {\"clasS\": \"Ichthyostraca\", \"type\": \"Material Tipo\", \"number\": 0}, {\"clasS\": \"Ichthyostraca\", \"type\": \"Alotipo\", \"number\": 1}, {\"clasS\": \"Ichthyostraca\", \"type\": \"PARATIPO\", \"number\": 0}, {\"clasS\": \"Ichthyostraca\", \"type\": \"Paralectotipo\", \"number\": 0}, {\"clasS\": \"Ichthyostraca\", \"type\": \"Co-Tipo\", \"number\": 0}, {\"clasS\": \"Ichthyostraca\", \"type\": \"Lectotipo\", \"number\": 0}, {\"clasS\": \"Ichthyostraca\", \"type\": \"Neotipo\", \"number\": 0}, {\"clasS\": \"Ichthyostraca\", \"type\": \"Sintipo\", \"number\": 0}, {\"clasS\": \"Ichthyostraca\", \"type\": \"Topotipo\", \"number\": 0}, {\"clasS\": \"Ichthyostraca\", \"type\": \"Tipo\", \"number\": 0}, {\"clasS\": \"\", \"type\": \"\", \"number\": 605}, {\"clasS\": \"\", \"type\": \"Paratipo\", \"number\": 0}, {\"clasS\": \"\", \"type\": \"Holotipo\", \"number\": 0}, {\"clasS\": \"\", \"type\": \"Material Tipo\", \"number\": 0}, {\"clasS\": \"\", \"type\": \"Alotipo\", \"number\": 0}, {\"clasS\": \"\", \"type\": \"PARATIPO\", \"number\": 0}, {\"clasS\": \"\", \"type\": \"Paralectotipo\", \"number\": 0}, {\"clasS\": \"\", \"type\": \"Co-Tipo\", \"number\": 0}, {\"clasS\": \"\", \"type\": \"Lectotipo\", \"number\": 0}, {\"clasS\": \"\", \"type\": \"Neotipo\", \"number\": 0}, {\"clasS\": \"\", \"type\": \"Sintipo\", \"number\": 0}, {\"clasS\": \"\", \"type\": \"Topotipo\", \"number\": 0}, {\"clasS\": \"\", \"type\": \"Tipo\", \"number\": 0}, {\"clasS\": \"Icthyostraca\", \"type\": \"\", \"number\": 45}, {\"clasS\": \"Icthyostraca\", \"type\": \"Paratipo\", \"number\": 1}, {\"clasS\": \"Icthyostraca\", \"type\": \"Holotipo\", \"number\": 2}, {\"clasS\": \"Icthyostraca\", \"type\": \"Material Tipo\", \"number\": 0}, {\"clasS\": \"Icthyostraca\", \"type\": \"Alotipo\", \"number\": 2}, {\"clasS\": \"Icthyostraca\", \"type\": \"PARATIPO\", \"number\": 0}, {\"clasS\": \"Icthyostraca\", \"type\": \"Paralectotipo\", \"number\": 0}, {\"clasS\": \"Icthyostraca\", \"type\": \"Co-Tipo\", \"number\": 0}, {\"clasS\": \"Icthyostraca\", \"type\": \"Lectotipo\", \"number\": 0}, {\"clasS\": \"Icthyostraca\", \"type\": \"Neotipo\", \"number\": 0}, {\"clasS\": \"Icthyostraca\", \"type\": \"Sintipo\", \"number\": 0}, {\"clasS\": \"Icthyostraca\", \"type\": \"Topotipo\", \"number\": 0}, {\"clasS\": \"Icthyostraca\", \"type\": \"Tipo\", \"number\": 0}, {\"clasS\": \"Ostracoda\", \"type\": \"\", \"number\": 525}, {\"clasS\": \"Ostracoda\", \"type\": \"Paratipo\", \"number\": 17}, {\"clasS\": \"Ostracoda\", \"type\": \"Holotipo\", \"number\": 6}, {\"clasS\": \"Ostracoda\", \"type\": \"Material Tipo\", \"number\": 0}, {\"clasS\": \"Ostracoda\", \"type\": \"Alotipo\", \"number\": 0}, {\"clasS\": \"Ostracoda\", \"type\": \"PARATIPO\", \"number\": 0}, {\"clasS\": \"Ostracoda\", \"type\": \"Paralectotipo\", \"number\": 0}, {\"clasS\": \"Ostracoda\", \"type\": \"Co-Tipo\", \"number\": 0}, {\"clasS\": \"Ostracoda\", \"type\": \"Lectotipo\", \"number\": 0}, {\"clasS\": \"Ostracoda\", \"type\": \"Neotipo\", \"number\": 0}, {\"clasS\": \"Ostracoda\", \"type\": \"Sintipo\", \"number\": 0}, {\"clasS\": \"Ostracoda\", \"type\": \"Topotipo\", \"number\": 0}, {\"clasS\": \"Ostracoda\", \"type\": \"Tipo\", \"number\": 0}, {\"clasS\": \"Cephalocarida\", \"type\": \"\", \"number\": 6}, {\"clasS\": \"Cephalocarida\", \"type\": \"Paratipo\", \"number\": 2}, {\"clasS\": \"Cephalocarida\", \"type\": \"Holotipo\", \"number\": 0}, {\"clasS\": \"Cephalocarida\", \"type\": \"Material Tipo\", \"number\": 0}, {\"clasS\": \"Cephalocarida\", \"type\": \"Alotipo\", \"number\": 0}, {\"clasS\": \"Cephalocarida\", \"type\": \"PARATIPO\", \"number\": 0}, {\"clasS\": \"Cephalocarida\", \"type\": \"Paralectotipo\", \"number\": 0}, {\"clasS\": \"Cephalocarida\", \"type\": \"Co-Tipo\", \"number\": 0}, {\"clasS\": \"Cephalocarida\", \"type\": \"Lectotipo\", \"number\": 0}, {\"clasS\": \"Cephalocarida\", \"type\": \"Neotipo\", \"number\": 0}, {\"clasS\": \"Cephalocarida\", \"type\": \"Sintipo\", \"number\": 0}, {\"clasS\": \"Cephalocarida\", \"type\": \"Topotipo\", \"number\": 0}, {\"clasS\": \"Cephalocarida\", \"type\": \"Tipo\", \"number\": 0}, {\"clasS\": \"Remipedia\", \"type\": \"\", \"number\": 1}, {\"clasS\": \"Remipedia\", \"type\": \"Paratipo\", \"number\": 0}, {\"clasS\": \"Remipedia\", \"type\": \"Holotipo\", \"number\": 0}, {\"clasS\": \"Remipedia\", \"type\": \"Material Tipo\", \"number\": 0}, {\"clasS\": \"Remipedia\", \"type\": \"Alotipo\", \"number\": 0}, {\"clasS\": \"Remipedia\", \"type\": \"PARATIPO\", \"number\": 0}, {\"clasS\": \"Remipedia\", \"type\": \"Paralectotipo\", \"number\": 0}, {\"clasS\": \"Remipedia\", \"type\": \"Co-Tipo\", \"number\": 0}, {\"clasS\": \"Remipedia\", \"type\": \"Lectotipo\", \"number\": 0}, {\"clasS\": \"Remipedia\", \"type\": \"Neotipo\", \"number\": 0}, {\"clasS\": \"Remipedia\", \"type\": \"Sintipo\", \"number\": 0}, {\"clasS\": \"Remipedia\", \"type\": \"Topotipo\", \"number\": 0}, {\"clasS\": \"Remipedia\", \"type\": \"Tipo\", \"number\": 0}]}}, {\"mode\": \"vega-lite\"});\n",
       "</script>"
      ],
      "text/plain": [
       "alt.Chart(...)"
      ]
     },
     "metadata": {},
     "output_type": "display_data"
    },
    {
     "name": "stdout",
     "output_type": "stream",
     "text": [
      "I am validator clasS\n",
      "I am validator type\n",
      "I am validator number\n"
     ]
    },
    {
     "data": {
      "text/html": [
       "\n",
       "<div id=\"altair-viz-e3a30d62289e4788bac9d26be363d4b2\"></div>\n",
       "<script type=\"text/javascript\">\n",
       "  (function(spec, embedOpt){\n",
       "    const outputDiv = document.getElementById(\"altair-viz-e3a30d62289e4788bac9d26be363d4b2\");\n",
       "    const paths = {\n",
       "      \"vega\": \"https://cdn.jsdelivr.net/npm//vega@5?noext\",\n",
       "      \"vega-lib\": \"https://cdn.jsdelivr.net/npm//vega-lib?noext\",\n",
       "      \"vega-lite\": \"https://cdn.jsdelivr.net/npm//vega-lite@4.0.2?noext\",\n",
       "      \"vega-embed\": \"https://cdn.jsdelivr.net/npm//vega-embed@6?noext\",\n",
       "    };\n",
       "\n",
       "    function loadScript(lib) {\n",
       "      return new Promise(function(resolve, reject) {\n",
       "        var s = document.createElement('script');\n",
       "        s.src = paths[lib];\n",
       "        s.async = true;\n",
       "        s.onload = () => resolve(paths[lib]);\n",
       "        s.onerror = () => reject(`Error loading script: ${paths[lib]}`);\n",
       "        document.getElementsByTagName(\"head\")[0].appendChild(s);\n",
       "      });\n",
       "    }\n",
       "\n",
       "    function showError(err) {\n",
       "      outputDiv.innerHTML = `<div class=\"error\" style=\"color:red;\">${err}</div>`;\n",
       "      throw err;\n",
       "    }\n",
       "\n",
       "    function displayChart(vegaEmbed) {\n",
       "      vegaEmbed(outputDiv, spec, embedOpt)\n",
       "        .catch(err => showError(`Javascript Error: ${err.message}<br>This usually means there's a typo in your chart specification. See the javascript console for the full traceback.`));\n",
       "    }\n",
       "\n",
       "    if(typeof define === \"function\" && define.amd) {\n",
       "      requirejs.config({paths});\n",
       "      require([\"vega-embed\"], displayChart, err => showError(`Error loading script: ${err.message}`));\n",
       "    } else if (typeof vegaEmbed === \"function\") {\n",
       "      displayChart(vegaEmbed);\n",
       "    } else {\n",
       "      loadScript(\"vega\")\n",
       "        .then(() => loadScript(\"vega-lite\"))\n",
       "        .then(() => loadScript(\"vega-embed\"))\n",
       "        .catch(showError)\n",
       "        .then(() => displayChart(vegaEmbed));\n",
       "    }\n",
       "  })({\"config\": {\"view\": {\"continuousWidth\": 400, \"continuousHeight\": 300}}, \"data\": {\"name\": \"data-b23ac94ecbefd3d5b6375b1660e5d57a\"}, \"mark\": \"bar\", \"encoding\": {\"color\": {\"type\": \"nominal\", \"field\": \"type\"}, \"order\": {\"type\": \"nominal\", \"field\": \"type\", \"sort\": \"ascending\"}, \"x\": {\"type\": \"quantitative\", \"aggregate\": \"sum\", \"field\": \"number\", \"title\": \"Total Number\"}, \"y\": {\"type\": \"nominal\", \"field\": \"clasS\", \"sort\": {\"field\": \"number\", \"order\": \"descending\"}, \"title\": \"Class\"}}, \"$schema\": \"https://vega.github.io/schema/vega-lite/v4.0.2.json\", \"datasets\": {\"data-b23ac94ecbefd3d5b6375b1660e5d57a\": [{\"clasS\": \"Malacostraca\", \"type\": \"\", \"number\": 23118}, {\"clasS\": \"Malacostraca\", \"type\": \"Paratipo\", \"number\": 541}, {\"clasS\": \"Malacostraca\", \"type\": \"Holotipo\", \"number\": 224}, {\"clasS\": \"Malacostraca\", \"type\": \"Material Tipo\", \"number\": 3}, {\"clasS\": \"Malacostraca\", \"type\": \"Alotipo\", \"number\": 60}, {\"clasS\": \"Malacostraca\", \"type\": \"PARATIPO\", \"number\": 23}, {\"clasS\": \"Malacostraca\", \"type\": \"Paralectotipo\", \"number\": 6}, {\"clasS\": \"Malacostraca\", \"type\": \"Co-Tipo\", \"number\": 1}, {\"clasS\": \"Malacostraca\", \"type\": \"Lectotipo\", \"number\": 3}, {\"clasS\": \"Malacostraca\", \"type\": \"Neotipo\", \"number\": 6}, {\"clasS\": \"Malacostraca\", \"type\": \"Sintipo\", \"number\": 5}, {\"clasS\": \"Malacostraca\", \"type\": \"Topotipo\", \"number\": 9}, {\"clasS\": \"Malacostraca\", \"type\": \"Tipo\", \"number\": 2}, {\"clasS\": \"Hexanauplia\", \"type\": \"\", \"number\": 2921}, {\"clasS\": \"Hexanauplia\", \"type\": \"Paratipo\", \"number\": 94}, {\"clasS\": \"Hexanauplia\", \"type\": \"Holotipo\", \"number\": 45}, {\"clasS\": \"Hexanauplia\", \"type\": \"Material Tipo\", \"number\": 0}, {\"clasS\": \"Hexanauplia\", \"type\": \"Alotipo\", \"number\": 12}, {\"clasS\": \"Hexanauplia\", \"type\": \"PARATIPO\", \"number\": 4}, {\"clasS\": \"Hexanauplia\", \"type\": \"Paralectotipo\", \"number\": 0}, {\"clasS\": \"Hexanauplia\", \"type\": \"Co-Tipo\", \"number\": 0}, {\"clasS\": \"Hexanauplia\", \"type\": \"Lectotipo\", \"number\": 1}, {\"clasS\": \"Hexanauplia\", \"type\": \"Neotipo\", \"number\": 0}, {\"clasS\": \"Hexanauplia\", \"type\": \"Sintipo\", \"number\": 0}, {\"clasS\": \"Hexanauplia\", \"type\": \"Topotipo\", \"number\": 0}, {\"clasS\": \"Hexanauplia\", \"type\": \"Tipo\", \"number\": 0}, {\"clasS\": \"Branchiopoda\", \"type\": \"\", \"number\": 336}, {\"clasS\": \"Branchiopoda\", \"type\": \"Paratipo\", \"number\": 9}, {\"clasS\": \"Branchiopoda\", \"type\": \"Holotipo\", \"number\": 6}, {\"clasS\": \"Branchiopoda\", \"type\": \"Material Tipo\", \"number\": 0}, {\"clasS\": \"Branchiopoda\", \"type\": \"Alotipo\", \"number\": 5}, {\"clasS\": \"Branchiopoda\", \"type\": \"PARATIPO\", \"number\": 0}, {\"clasS\": \"Branchiopoda\", \"type\": \"Paralectotipo\", \"number\": 0}, {\"clasS\": \"Branchiopoda\", \"type\": \"Co-Tipo\", \"number\": 0}, {\"clasS\": \"Branchiopoda\", \"type\": \"Lectotipo\", \"number\": 0}, {\"clasS\": \"Branchiopoda\", \"type\": \"Neotipo\", \"number\": 0}, {\"clasS\": \"Branchiopoda\", \"type\": \"Sintipo\", \"number\": 0}, {\"clasS\": \"Branchiopoda\", \"type\": \"Topotipo\", \"number\": 0}, {\"clasS\": \"Branchiopoda\", \"type\": \"Tipo\", \"number\": 0}, {\"clasS\": \"Maxillopoda\", \"type\": \"\", \"number\": 34}, {\"clasS\": \"Maxillopoda\", \"type\": \"Paratipo\", \"number\": 4}, {\"clasS\": \"Maxillopoda\", \"type\": \"Holotipo\", \"number\": 2}, {\"clasS\": \"Maxillopoda\", \"type\": \"Material Tipo\", \"number\": 0}, {\"clasS\": \"Maxillopoda\", \"type\": \"Alotipo\", \"number\": 1}, {\"clasS\": \"Maxillopoda\", \"type\": \"PARATIPO\", \"number\": 0}, {\"clasS\": \"Maxillopoda\", \"type\": \"Paralectotipo\", \"number\": 0}, {\"clasS\": \"Maxillopoda\", \"type\": \"Co-Tipo\", \"number\": 0}, {\"clasS\": \"Maxillopoda\", \"type\": \"Lectotipo\", \"number\": 0}, {\"clasS\": \"Maxillopoda\", \"type\": \"Neotipo\", \"number\": 0}, {\"clasS\": \"Maxillopoda\", \"type\": \"Sintipo\", \"number\": 0}, {\"clasS\": \"Maxillopoda\", \"type\": \"Topotipo\", \"number\": 0}, {\"clasS\": \"Maxillopoda\", \"type\": \"Tipo\", \"number\": 0}, {\"clasS\": \"Ichthyostraca\", \"type\": \"\", \"number\": 1}, {\"clasS\": \"Ichthyostraca\", \"type\": \"Paratipo\", \"number\": 0}, {\"clasS\": \"Ichthyostraca\", \"type\": \"Holotipo\", \"number\": 0}, {\"clasS\": \"Ichthyostraca\", \"type\": \"Material Tipo\", \"number\": 0}, {\"clasS\": \"Ichthyostraca\", \"type\": \"Alotipo\", \"number\": 1}, {\"clasS\": \"Ichthyostraca\", \"type\": \"PARATIPO\", \"number\": 0}, {\"clasS\": \"Ichthyostraca\", \"type\": \"Paralectotipo\", \"number\": 0}, {\"clasS\": \"Ichthyostraca\", \"type\": \"Co-Tipo\", \"number\": 0}, {\"clasS\": \"Ichthyostraca\", \"type\": \"Lectotipo\", \"number\": 0}, {\"clasS\": \"Ichthyostraca\", \"type\": \"Neotipo\", \"number\": 0}, {\"clasS\": \"Ichthyostraca\", \"type\": \"Sintipo\", \"number\": 0}, {\"clasS\": \"Ichthyostraca\", \"type\": \"Topotipo\", \"number\": 0}, {\"clasS\": \"Ichthyostraca\", \"type\": \"Tipo\", \"number\": 0}, {\"clasS\": \"\", \"type\": \"\", \"number\": 605}, {\"clasS\": \"\", \"type\": \"Paratipo\", \"number\": 0}, {\"clasS\": \"\", \"type\": \"Holotipo\", \"number\": 0}, {\"clasS\": \"\", \"type\": \"Material Tipo\", \"number\": 0}, {\"clasS\": \"\", \"type\": \"Alotipo\", \"number\": 0}, {\"clasS\": \"\", \"type\": \"PARATIPO\", \"number\": 0}, {\"clasS\": \"\", \"type\": \"Paralectotipo\", \"number\": 0}, {\"clasS\": \"\", \"type\": \"Co-Tipo\", \"number\": 0}, {\"clasS\": \"\", \"type\": \"Lectotipo\", \"number\": 0}, {\"clasS\": \"\", \"type\": \"Neotipo\", \"number\": 0}, {\"clasS\": \"\", \"type\": \"Sintipo\", \"number\": 0}, {\"clasS\": \"\", \"type\": \"Topotipo\", \"number\": 0}, {\"clasS\": \"\", \"type\": \"Tipo\", \"number\": 0}, {\"clasS\": \"Icthyostraca\", \"type\": \"\", \"number\": 45}, {\"clasS\": \"Icthyostraca\", \"type\": \"Paratipo\", \"number\": 1}, {\"clasS\": \"Icthyostraca\", \"type\": \"Holotipo\", \"number\": 2}, {\"clasS\": \"Icthyostraca\", \"type\": \"Material Tipo\", \"number\": 0}, {\"clasS\": \"Icthyostraca\", \"type\": \"Alotipo\", \"number\": 2}, {\"clasS\": \"Icthyostraca\", \"type\": \"PARATIPO\", \"number\": 0}, {\"clasS\": \"Icthyostraca\", \"type\": \"Paralectotipo\", \"number\": 0}, {\"clasS\": \"Icthyostraca\", \"type\": \"Co-Tipo\", \"number\": 0}, {\"clasS\": \"Icthyostraca\", \"type\": \"Lectotipo\", \"number\": 0}, {\"clasS\": \"Icthyostraca\", \"type\": \"Neotipo\", \"number\": 0}, {\"clasS\": \"Icthyostraca\", \"type\": \"Sintipo\", \"number\": 0}, {\"clasS\": \"Icthyostraca\", \"type\": \"Topotipo\", \"number\": 0}, {\"clasS\": \"Icthyostraca\", \"type\": \"Tipo\", \"number\": 0}, {\"clasS\": \"Ostracoda\", \"type\": \"\", \"number\": 525}, {\"clasS\": \"Ostracoda\", \"type\": \"Paratipo\", \"number\": 17}, {\"clasS\": \"Ostracoda\", \"type\": \"Holotipo\", \"number\": 6}, {\"clasS\": \"Ostracoda\", \"type\": \"Material Tipo\", \"number\": 0}, {\"clasS\": \"Ostracoda\", \"type\": \"Alotipo\", \"number\": 0}, {\"clasS\": \"Ostracoda\", \"type\": \"PARATIPO\", \"number\": 0}, {\"clasS\": \"Ostracoda\", \"type\": \"Paralectotipo\", \"number\": 0}, {\"clasS\": \"Ostracoda\", \"type\": \"Co-Tipo\", \"number\": 0}, {\"clasS\": \"Ostracoda\", \"type\": \"Lectotipo\", \"number\": 0}, {\"clasS\": \"Ostracoda\", \"type\": \"Neotipo\", \"number\": 0}, {\"clasS\": \"Ostracoda\", \"type\": \"Sintipo\", \"number\": 0}, {\"clasS\": \"Ostracoda\", \"type\": \"Topotipo\", \"number\": 0}, {\"clasS\": \"Ostracoda\", \"type\": \"Tipo\", \"number\": 0}, {\"clasS\": \"Cephalocarida\", \"type\": \"\", \"number\": 6}, {\"clasS\": \"Cephalocarida\", \"type\": \"Paratipo\", \"number\": 2}, {\"clasS\": \"Cephalocarida\", \"type\": \"Holotipo\", \"number\": 0}, {\"clasS\": \"Cephalocarida\", \"type\": \"Material Tipo\", \"number\": 0}, {\"clasS\": \"Cephalocarida\", \"type\": \"Alotipo\", \"number\": 0}, {\"clasS\": \"Cephalocarida\", \"type\": \"PARATIPO\", \"number\": 0}, {\"clasS\": \"Cephalocarida\", \"type\": \"Paralectotipo\", \"number\": 0}, {\"clasS\": \"Cephalocarida\", \"type\": \"Co-Tipo\", \"number\": 0}, {\"clasS\": \"Cephalocarida\", \"type\": \"Lectotipo\", \"number\": 0}, {\"clasS\": \"Cephalocarida\", \"type\": \"Neotipo\", \"number\": 0}, {\"clasS\": \"Cephalocarida\", \"type\": \"Sintipo\", \"number\": 0}, {\"clasS\": \"Cephalocarida\", \"type\": \"Topotipo\", \"number\": 0}, {\"clasS\": \"Cephalocarida\", \"type\": \"Tipo\", \"number\": 0}, {\"clasS\": \"Remipedia\", \"type\": \"\", \"number\": 1}, {\"clasS\": \"Remipedia\", \"type\": \"Paratipo\", \"number\": 0}, {\"clasS\": \"Remipedia\", \"type\": \"Holotipo\", \"number\": 0}, {\"clasS\": \"Remipedia\", \"type\": \"Material Tipo\", \"number\": 0}, {\"clasS\": \"Remipedia\", \"type\": \"Alotipo\", \"number\": 0}, {\"clasS\": \"Remipedia\", \"type\": \"PARATIPO\", \"number\": 0}, {\"clasS\": \"Remipedia\", \"type\": \"Paralectotipo\", \"number\": 0}, {\"clasS\": \"Remipedia\", \"type\": \"Co-Tipo\", \"number\": 0}, {\"clasS\": \"Remipedia\", \"type\": \"Lectotipo\", \"number\": 0}, {\"clasS\": \"Remipedia\", \"type\": \"Neotipo\", \"number\": 0}, {\"clasS\": \"Remipedia\", \"type\": \"Sintipo\", \"number\": 0}, {\"clasS\": \"Remipedia\", \"type\": \"Topotipo\", \"number\": 0}, {\"clasS\": \"Remipedia\", \"type\": \"Tipo\", \"number\": 0}]}}, {\"mode\": \"vega-lite\"});\n",
       "</script>"
      ],
      "text/plain": [
       "alt.Chart(...)"
      ]
     },
     "metadata": {},
     "output_type": "display_data"
    }
   ],
   "source": [
    "%run Reader \n",
    "# %run Validator \n",
    "# %run Visualizer \n",
    "\n",
    "# # initate the reader class to feed the dataset\n",
    "# reader = Reader('./data/db.csv')\n",
    "# tableResult = reader.readData()\n",
    "\n",
    "# # validate the different types of data\n",
    "# validator = Validator(tableResult)\n",
    "# validatedResults = validator.validateData()\n",
    "\n",
    "# # initate the visualiser which will change the various graphs after data is validated\n",
    "# visualiser = Visualizer(validatedResults)\n",
    "\n",
    "# visualiser.plotClassOrder()"
   ]
  }
 ],
 "metadata": {
  "kernelspec": {
   "display_name": "Python 3",
   "language": "python",
   "name": "python3"
  },
  "language_info": {
   "codemirror_mode": {
    "name": "ipython",
    "version": 3
   },
   "file_extension": ".py",
   "mimetype": "text/x-python",
   "name": "python",
   "nbconvert_exporter": "python",
   "pygments_lexer": "ipython3",
   "version": "3.7.4"
  }
 },
 "nbformat": 4,
 "nbformat_minor": 4
}
